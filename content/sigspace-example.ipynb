{
 "cells": [
  {
   "cell_type": "code",
   "execution_count": null,
   "id": "6f3c1e68-bacc-473c-b543-c750f4099a59",
   "metadata": {},
   "outputs": [],
   "source": [
    "import numpy as np\n",
    "import numpy.random as npr\n",
    "from numpy.linalg import norm\n",
    "\n",
    "import matplotlib.pyplot as plt"
   ]
  },
  {
   "cell_type": "code",
   "execution_count": null,
   "id": "5f7d7e0a-4b23-4231-8b53-8c5100f00239",
   "metadata": {},
   "outputs": [],
   "source": [
    "# Make some signals\n",
    "siglen=25\n",
    "s=[]\n",
    "s += [np.ones(siglen)]\n",
    "s += [np.linspace(0, 1, siglen)]"
   ]
  },
  {
   "cell_type": "code",
   "execution_count": null,
   "id": "4548db12-fcbb-42c4-b870-8b561f184d5a",
   "metadata": {},
   "outputs": [],
   "source": [
    "# Example transmitted sequence\n",
    "sTx = np.hstack( (s[0], s[1], s[0]) )\n",
    "plt.plot(sTx)"
   ]
  },
  {
   "cell_type": "code",
   "execution_count": null,
   "id": "32b66be4-a72c-427c-91c1-e0767b5283e5",
   "metadata": {},
   "outputs": [],
   "source": [
    "# Example received sequences\n",
    "\n",
    "for sigma in np.arange(0.1,0.6,0.1):\n",
    "    n = sigma*npr.randn(len(sTx))\n",
    "    plt.figure()\n",
    "    plt.plot(sTx+n)\n",
    "    plt.title(f'Received signal when sigma = {sigma:0.1f}')"
   ]
  },
  {
   "cell_type": "code",
   "execution_count": null,
   "id": "393a9219-410f-42d1-97c7-4904d13a7add",
   "metadata": {},
   "outputs": [],
   "source": [
    "# Find basis functions\n",
    "f0 = s[0]/norm(s[0])\n",
    "\n",
    "s10 = s[1]@f0\n",
    "e1 = s[1] - s10*f0\n",
    "f1 = e1/norm(e1)\n",
    "plt.plot(f1);"
   ]
  },
  {
   "cell_type": "code",
   "execution_count": null,
   "id": "ff6ce208-e769-45dc-96e7-18f413d9f01d",
   "metadata": {},
   "outputs": [],
   "source": [
    "f = np.vstack( (f0, f1) )\n",
    "def sigspace(s, f=f):\n",
    "    return f @ s\n",
    "    "
   ]
  },
  {
   "cell_type": "code",
   "execution_count": null,
   "id": "0ba88477-2edb-457c-9b84-a38e97f8feb3",
   "metadata": {},
   "outputs": [],
   "source": [
    "def plot_noise_rep(sigma=0.5, datalen=5):\n",
    "\n",
    "    u = npr.randint(2, size=datalen)\n",
    "        \n",
    "    for i in range(datalen):\n",
    "        fig, axes = plt.subplots(nrows=1, ncols=3, figsize=(8,4))\n",
    "    \n",
    "        # Tx signal\n",
    "        signal = s[u[i]]\n",
    "        axes[0].plot(signal)\n",
    "    \n",
    "        # Rx signal\n",
    "        noise = sigma * npr.randn(len(signal))\n",
    "        r = signal + noise\n",
    "        axes[0].plot(r)\n",
    "        axes[0].set_ylim(-2*sigma, 1+2*sigma)\n",
    "        axes[0].set_title('')\n",
    "    \n",
    "        # Set up axes for signal space:\n",
    "        axes[1].set_xlim(-2,6)\n",
    "        axes[1].set_ylim(-2,5)\n",
    "        axes[1].spines['left'].set_position('zero')\n",
    "        axes[1].spines['bottom'].set_position('zero')\n",
    "        axes[1].spines['top'].set_visible(False)\n",
    "        axes[1].spines['right'].set_visible(False)\n",
    "        axes[1].set_title('Sig Space Rep')\n",
    "        axes[1].set_aspect('equal')\n",
    "    \n",
    "        \n",
    "        # Tx in signal space\n",
    "        svec = sigspace(signal)\n",
    "        axes[1].scatter(svec[0], svec[1])\n",
    "    \n",
    "        # Rx in signal space\n",
    "        rvec = sigspace(r)\n",
    "        axes[1].scatter(rvec[0], rvec[1], marker='*', color='red')\n",
    "\n",
    "        # Draw the decision region line\n",
    "        svec0=sigspace(s[0])\n",
    "        svec1=sigspace(s[1])\n",
    "        midpoint = (svec0+svec1)/2\n",
    "        signal_slope = (svec1[1] - svec0[1])/(svec1[0]-svec0[0])\n",
    "        dec_slope = -1/signal_slope\n",
    "        xvals = np.arange(0, 10)\n",
    "        axes[1].plot(xvals, dec_slope*(xvals-midpoint[0])+midpoint[1], ':')\n",
    "        \n",
    "        # Plot noise terms\n",
    "        axes[2].set_ylim(-2*sigma, 2*sigma)\n",
    "        noise_in = noise@f0*f0 + noise@f1*f1\n",
    "        noise_out = noise - noise@f0*f0 + noise@f1*f1\n",
    "        axes[2].plot(noise_in)\n",
    "        axes[2].plot(noise_out)\n",
    "        axes[2].set_title('Noise components')\n",
    "       "
   ]
  },
  {
   "cell_type": "code",
   "execution_count": null,
   "id": "e0a89c02-f0e8-4faa-be93-2fbbc8c0ea63",
   "metadata": {},
   "outputs": [],
   "source": []
  }
 ],
 "metadata": {
  "kernelspec": {
   "display_name": "Python 3 (ipykernel)",
   "language": "python",
   "name": "python3"
  },
  "language_info": {
   "codemirror_mode": {
    "name": "ipython",
    "version": 3
   },
   "file_extension": ".py",
   "mimetype": "text/x-python",
   "name": "python",
   "nbconvert_exporter": "python",
   "pygments_lexer": "ipython3",
   "version": "3.9.16"
  }
 },
 "nbformat": 4,
 "nbformat_minor": 5
}
